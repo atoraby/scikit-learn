{
 "cells": [
  {
   "cell_type": "markdown",
   "metadata": {},
   "source": [
    "# What is scikit-learn\n",
    "\n",
    "Scikit learn provides a selection of efficient tools for machine learning and statistical modeling including classification, regression, clustering and dimensionality reduction via a consistence interface in Python. This library, which is largely written in Python, is built upon NumPy, SciPy and Matplotlib.\n",
    "\n",
    "Scikit-learn includes following features:\n",
    "\n",
    "\n",
    "1. Supervised Learning algorithms − Almost all the popular supervised learning algorithms, like Linear Regression, Support Vector Machine (SVM), Decision Tree etc., are the part of scikit-learn.\n",
    "\n",
    "2. Unsupervised Learning algorithms − On the other hand, it also has all the popular unsupervised learning algorithms from clustering, factor analysis, PCA (Principal Component Analysis) to unsupervised neural networks.\n",
    "\n",
    "3. Clustering − This model is used for grouping unlabeled data.\n",
    "\n",
    "4. Cross Validation − It is used to check the accuracy of supervised models on unseen data.\n",
    "\n",
    "5. Dimensionality Reduction − It is used for reducing the number of attributes in data which can be further used for summarisation, visualisation and feature selection.\n",
    "\n",
    "6. Ensemble methods − As name suggest, it is used for combining the predictions of multiple supervised models.\n",
    "\n",
    "7. Feature extraction − It is used to extract the features from data to define the attributes in image and text data.\n",
    "\n",
    "8. Feature selection − It is used to identify useful attributes to create supervised models."
   ]
  },
  {
   "cell_type": "markdown",
   "metadata": {},
   "source": [
    "## Data set loading\n",
    "Scikit-learn have few example datasets like <strong>iris</strong> and <strong>digits</strong> for classification and the <strong>Boston house prices</strong> for regression.\n",
    "\n",
    "The following code shows an example of loading iris dataset:"
   ]
  },
  {
   "cell_type": "code",
   "execution_count": 3,
   "metadata": {},
   "outputs": [
    {
     "name": "stdout",
     "output_type": "stream",
     "text": [
      "Feature names: ['sepal length (cm)', 'sepal width (cm)', 'petal length (cm)', 'petal width (cm)']\n",
      "Target names: ['setosa' 'versicolor' 'virginica']\n",
      "\n",
      "First 10 rows of X:\n",
      " [[5.1 3.5 1.4 0.2]\n",
      " [4.9 3.  1.4 0.2]\n",
      " [4.7 3.2 1.3 0.2]\n",
      " [4.6 3.1 1.5 0.2]\n",
      " [5.  3.6 1.4 0.2]\n",
      " [5.4 3.9 1.7 0.4]\n",
      " [4.6 3.4 1.4 0.3]\n",
      " [5.  3.4 1.5 0.2]\n",
      " [4.4 2.9 1.4 0.2]\n",
      " [4.9 3.1 1.5 0.1]]\n"
     ]
    }
   ],
   "source": [
    "from sklearn.datasets import load_iris\n",
    "iris = load_iris()\n",
    "X = iris.data\n",
    "y = iris.target\n",
    "feature_names = iris.feature_names\n",
    "target_names = iris.target_names\n",
    "print(\"Feature names:\", feature_names)\n",
    "print(\"Target names:\", target_names)\n",
    "print(\"\\nFirst 10 rows of X:\\n\", X[:10])\n",
    "# As you can see, the data in the iris dataset is recorded using numpy arrays."
   ]
  },
  {
   "cell_type": "markdown",
   "metadata": {},
   "source": [
    "## Creating test and train sets\n",
    "We can split the dataset for training and testing. The following example will split the data into 70:30 ratio"
   ]
  },
  {
   "cell_type": "code",
   "execution_count": 4,
   "metadata": {},
   "outputs": [],
   "source": [
    "from sklearn.model_selection import train_test_split\n",
    "train_data, test_data, trasin_label, test_label  = train_test_split(X, y , train_size=0.7, test_size=0.3)"
   ]
  },
  {
   "cell_type": "code",
   "execution_count": 5,
   "metadata": {},
   "outputs": [
    {
     "name": "stdout",
     "output_type": "stream",
     "text": [
      "150\n",
      "105\n",
      "45\n"
     ]
    }
   ],
   "source": [
    "print(len(X))\n",
    "print(len(train_data))\n",
    "print(len(test_data))"
   ]
  },
  {
   "cell_type": "markdown",
   "metadata": {},
   "source": [
    "## Creating the model\n",
    "Next, we can use our dataset to train some prediction-model. There is a wide range of Machine Learning (ML) algorithms. For example, we use KNN for classifier:"
   ]
  },
  {
   "cell_type": "code",
   "execution_count": 6,
   "metadata": {},
   "outputs": [
    {
     "name": "stdout",
     "output_type": "stream",
     "text": [
      "Accuracy = 0.9777777777777777\n"
     ]
    }
   ],
   "source": [
    "from sklearn.neighbors import KNeighborsClassifier\n",
    "from sklearn import metrics\n",
    "knn_classifier = KNeighborsClassifier(3)\n",
    "knn_classifier.fit(train_data,trasin_label)\n",
    "result = knn_classifier.predict(test_data)\n",
    "accuracy = metrics.accuracy_score(test_label , result)\n",
    "print(\"Accuracy =\" , accuracy)"
   ]
  },
  {
   "cell_type": "markdown",
   "metadata": {},
   "source": [
    "## Model Persistence\n",
    "Once you train the model, it is desirable that the model should be persist for future use so that we do not need to retrain it again and again. It can be done with the help of dump and load features of joblib package."
   ]
  },
  {
   "cell_type": "code",
   "execution_count": 7,
   "metadata": {},
   "outputs": [
    {
     "data": {
      "text/plain": [
       "['knn_classifier.joblib']"
      ]
     },
     "execution_count": 7,
     "metadata": {},
     "output_type": "execute_result"
    }
   ],
   "source": [
    "import joblib\n",
    "joblib.dump(knn_classifier, \"knn_classifier.joblib\")"
   ]
  },
  {
   "cell_type": "code",
   "execution_count": 8,
   "metadata": {},
   "outputs": [
    {
     "data": {
      "text/html": [
       "<style>#sk-container-id-1 {color: black;background-color: white;}#sk-container-id-1 pre{padding: 0;}#sk-container-id-1 div.sk-toggleable {background-color: white;}#sk-container-id-1 label.sk-toggleable__label {cursor: pointer;display: block;width: 100%;margin-bottom: 0;padding: 0.3em;box-sizing: border-box;text-align: center;}#sk-container-id-1 label.sk-toggleable__label-arrow:before {content: \"▸\";float: left;margin-right: 0.25em;color: #696969;}#sk-container-id-1 label.sk-toggleable__label-arrow:hover:before {color: black;}#sk-container-id-1 div.sk-estimator:hover label.sk-toggleable__label-arrow:before {color: black;}#sk-container-id-1 div.sk-toggleable__content {max-height: 0;max-width: 0;overflow: hidden;text-align: left;background-color: #f0f8ff;}#sk-container-id-1 div.sk-toggleable__content pre {margin: 0.2em;color: black;border-radius: 0.25em;background-color: #f0f8ff;}#sk-container-id-1 input.sk-toggleable__control:checked~div.sk-toggleable__content {max-height: 200px;max-width: 100%;overflow: auto;}#sk-container-id-1 input.sk-toggleable__control:checked~label.sk-toggleable__label-arrow:before {content: \"▾\";}#sk-container-id-1 div.sk-estimator input.sk-toggleable__control:checked~label.sk-toggleable__label {background-color: #d4ebff;}#sk-container-id-1 div.sk-label input.sk-toggleable__control:checked~label.sk-toggleable__label {background-color: #d4ebff;}#sk-container-id-1 input.sk-hidden--visually {border: 0;clip: rect(1px 1px 1px 1px);clip: rect(1px, 1px, 1px, 1px);height: 1px;margin: -1px;overflow: hidden;padding: 0;position: absolute;width: 1px;}#sk-container-id-1 div.sk-estimator {font-family: monospace;background-color: #f0f8ff;border: 1px dotted black;border-radius: 0.25em;box-sizing: border-box;margin-bottom: 0.5em;}#sk-container-id-1 div.sk-estimator:hover {background-color: #d4ebff;}#sk-container-id-1 div.sk-parallel-item::after {content: \"\";width: 100%;border-bottom: 1px solid gray;flex-grow: 1;}#sk-container-id-1 div.sk-label:hover label.sk-toggleable__label {background-color: #d4ebff;}#sk-container-id-1 div.sk-serial::before {content: \"\";position: absolute;border-left: 1px solid gray;box-sizing: border-box;top: 0;bottom: 0;left: 50%;z-index: 0;}#sk-container-id-1 div.sk-serial {display: flex;flex-direction: column;align-items: center;background-color: white;padding-right: 0.2em;padding-left: 0.2em;position: relative;}#sk-container-id-1 div.sk-item {position: relative;z-index: 1;}#sk-container-id-1 div.sk-parallel {display: flex;align-items: stretch;justify-content: center;background-color: white;position: relative;}#sk-container-id-1 div.sk-item::before, #sk-container-id-1 div.sk-parallel-item::before {content: \"\";position: absolute;border-left: 1px solid gray;box-sizing: border-box;top: 0;bottom: 0;left: 50%;z-index: -1;}#sk-container-id-1 div.sk-parallel-item {display: flex;flex-direction: column;z-index: 1;position: relative;background-color: white;}#sk-container-id-1 div.sk-parallel-item:first-child::after {align-self: flex-end;width: 50%;}#sk-container-id-1 div.sk-parallel-item:last-child::after {align-self: flex-start;width: 50%;}#sk-container-id-1 div.sk-parallel-item:only-child::after {width: 0;}#sk-container-id-1 div.sk-dashed-wrapped {border: 1px dashed gray;margin: 0 0.4em 0.5em 0.4em;box-sizing: border-box;padding-bottom: 0.4em;background-color: white;}#sk-container-id-1 div.sk-label label {font-family: monospace;font-weight: bold;display: inline-block;line-height: 1.2em;}#sk-container-id-1 div.sk-label-container {text-align: center;}#sk-container-id-1 div.sk-container {/* jupyter's `normalize.less` sets `[hidden] { display: none; }` but bootstrap.min.css set `[hidden] { display: none !important; }` so we also need the `!important` here to be able to override the default hidden behavior on the sphinx rendered scikit-learn.org. See: https://github.com/scikit-learn/scikit-learn/issues/21755 */display: inline-block !important;position: relative;}#sk-container-id-1 div.sk-text-repr-fallback {display: none;}</style><div id=\"sk-container-id-1\" class=\"sk-top-container\"><div class=\"sk-text-repr-fallback\"><pre>KNeighborsClassifier(n_neighbors=3)</pre><b>In a Jupyter environment, please rerun this cell to show the HTML representation or trust the notebook. <br />On GitHub, the HTML representation is unable to render, please try loading this page with nbviewer.org.</b></div><div class=\"sk-container\" hidden><div class=\"sk-item\"><div class=\"sk-estimator sk-toggleable\"><input class=\"sk-toggleable__control sk-hidden--visually\" id=\"sk-estimator-id-1\" type=\"checkbox\" checked><label for=\"sk-estimator-id-1\" class=\"sk-toggleable__label sk-toggleable__label-arrow\">KNeighborsClassifier</label><div class=\"sk-toggleable__content\"><pre>KNeighborsClassifier(n_neighbors=3)</pre></div></div></div></div></div>"
      ],
      "text/plain": [
       "KNeighborsClassifier(n_neighbors=3)"
      ]
     },
     "execution_count": 8,
     "metadata": {},
     "output_type": "execute_result"
    }
   ],
   "source": [
    "# We can load the saved model using the following method:\n",
    "loaded_classifier = joblib.load(\"knn_classifier.joblib\")\n",
    "loaded_classifier"
   ]
  },
  {
   "cell_type": "markdown",
   "metadata": {},
   "source": [
    "## Preprocessing data\n",
    "Scikit-learn has package named preprocessing for this purpose. The preprocessing package has the following techniques:\n",
    "1. Binarisation\n",
    "2. Mean removal\n",
    "3. Scaling\n",
    "4. Normalisation"
   ]
  },
  {
   "cell_type": "code",
   "execution_count": 9,
   "metadata": {},
   "outputs": [
    {
     "data": {
      "text/plain": [
       "array([[1., 0., 1.],\n",
       "       [0., 1., 1.],\n",
       "       [0., 0., 1.],\n",
       "       [1., 1., 0.]])"
      ]
     },
     "execution_count": 9,
     "metadata": {},
     "output_type": "execute_result"
    }
   ],
   "source": [
    "# Binarisation: This preprocessing technique is used when we need to convert our numerical values into Boolean values.\n",
    "from sklearn import preprocessing\n",
    "data = [[2.1, -1.9, 5.5],\n",
    "   [-1.5, 2.4, 3.5],\n",
    "   [0.5, -7.9, 5.6],\n",
    "   [5.9, 2.3, -5.8]]\n",
    "preprocessing.binarize(data,threshold=0.5)"
   ]
  },
  {
   "cell_type": "code",
   "execution_count": 10,
   "metadata": {},
   "outputs": [
    {
     "name": "stdout",
     "output_type": "stream",
     "text": [
      "Mean =  [ 1.75  -1.275  2.2  ]\n",
      "Std =  [2.71431391 4.20022321 4.69414529]\n",
      "[[ 0.12894603 -0.14880162  0.70300338]\n",
      " [-1.19735598  0.8749535   0.27694073]\n",
      " [-0.46052153 -1.57729713  0.72430651]\n",
      " [ 1.52893149  0.85114524 -1.70425062]]\n",
      "Mean after scale =  [1.11022302e-16 0.00000000e+00 0.00000000e+00]\n",
      "Std after scale =  [1. 1. 1.]\n"
     ]
    }
   ],
   "source": [
    "# Mean removal: This technique is used to eliminate the mean from feature vector so that every feature centered on zero.\n",
    "import numpy as np\n",
    "print(\"Mean = \", np.mean(data,axis=0))\n",
    "print(\"Std = \" , np.std(data,axis=0))\n",
    "\n",
    "data_zero_centered = preprocessing.scale(data)\n",
    "\n",
    "print(data_zero_centered)\n",
    "print(\"Mean after scale = \", np.mean(data_zero_centered,axis=0))\n",
    "print(\"Std after scale = \", np.std(data_zero_centered,axis=0))\n"
   ]
  },
  {
   "cell_type": "code",
   "execution_count": 11,
   "metadata": {},
   "outputs": [
    {
     "name": "stdout",
     "output_type": "stream",
     "text": [
      "[[-0.02702703  0.16504854  0.98245614]\n",
      " [-1.          1.          0.63157895]\n",
      " [-0.45945946 -1.          1.        ]\n",
      " [ 1.          0.98058252 -1.        ]]\n"
     ]
    }
   ],
   "source": [
    "#  Scaling: We use this preprocessing technique for scaling the feature vectors.\n",
    "#  Scaling of feature vectors is important, because the features should not be synthetically large or small.\n",
    "min_max = preprocessing.MinMaxScaler(feature_range=(-1,1))\n",
    "data_scaled = min_max.fit_transform(data_zero_centered)\n",
    "print(data_scaled)"
   ]
  },
  {
   "cell_type": "code",
   "execution_count": 12,
   "metadata": {},
   "outputs": [
    {
     "name": "stdout",
     "output_type": "stream",
     "text": [
      "[[-0.0230109   0.14052285  0.83646625]\n",
      " [-0.38        0.38        0.24      ]\n",
      " [-0.18681319 -0.40659341  0.40659341]\n",
      " [ 0.33550489  0.32899023 -0.33550489]]\n",
      "\n",
      "[[-0.02711951  0.16561329  0.98581782]\n",
      " [-0.64564628  0.64564628  0.4077766 ]\n",
      " [-0.30898878 -0.67250499  0.67250499]\n",
      " [ 0.58108685  0.56980361 -0.58108685]]\n"
     ]
    }
   ],
   "source": [
    "# We use this preprocessing technique for modifying the feature vectors.\n",
    "# Normalisation of feature vectors is necessary so that the feature vectors can be measured at common scale\n",
    "\n",
    "# L1 normalization: the sum of the absolute values remains always up to 1 in each row.\n",
    "l1_data = preprocessing.normalize(data_scaled,\"l1\")\n",
    "print(l1_data)\n",
    "print()\n",
    "\n",
    "# L2 normalization: the sum of the squares remains always up to 1 in each row.\n",
    "l2_data = preprocessing.normalize(data_scaled,\"l2\")\n",
    "print(l2_data)"
   ]
  },
  {
   "cell_type": "markdown",
   "metadata": {},
   "source": [
    "## Estimator API\n",
    "\n",
    "All machine learning algorithms in Scikit-Learn are implemented via Estimator API. The object that learns from the data (fitting the data) is an estimator. It can be used with any of the algorithms like classification, regression, clustering or even with a transformer, that extracts useful features from raw data.\n",
    "\n",
    "Steps in using Estimator API:\n",
    "\n",
    "Step 1: Choose a class of model\n",
    "In this first step, we need to choose a class of model. It can be done by importing the appropriate Estimator class from Scikit-learn.\n",
    "\n",
    "Step 2: Choose model hyperparameters\n",
    "In this step, we need to choose class model hyperparameters. It can be done by instantiating the class with desired values.\n",
    "\n",
    "Step 3: Arranging the data\n",
    "Next, we need to arrange the data into features matrix (X) and target vector(y).\n",
    "\n",
    "Step 4: Model Fitting\n",
    "Now, we need to fit the model to your data. It can be done by calling fit() method of the model instance.\n",
    "\n",
    "Step 5: Applying the model\n",
    "After fitting the model, we can apply it to new data. For supervised learning, use predict() method to predict the labels for unknown data. While for unsupervised learning, use predict() or transform() to infer properties of the data."
   ]
  },
  {
   "cell_type": "markdown",
   "metadata": {},
   "source": [
    "# Linear Modeling with scikit-learn\n",
    "\n",
    "A linear model is an equation that describes a relationship between two quantities that show a constant rate of change. We represent linear relationships graphically with straight lines. A linear model is usually described by two parameters: the slope, often called the growth factor or rate of change, and the y-intercept, often called the initial value. Given the slope mm and the yy-intercept b,b, the linear model can be written as a linear function y = mx + b.y=mx+b. For example, W\n",
    "we can represent the position of a car moving at a constant velocity with a linear model.\n",
    "\n",
    "The following list shows the various linear models provided by Scikit-Learn:\n",
    "\n",
    "1. Linear Regression\n",
    "2. Logistic Regression\n",
    "3. Ridge Regression\n",
    "4. Bayesian Ridge Regression\n",
    "5. LASSO\n",
    "6. Multi-task LASSO\n",
    "7. Elastic-Net\n",
    "8. Multi-task Elastic-Net\n"
   ]
  },
  {
   "cell_type": "markdown",
   "metadata": {},
   "source": [
    "## Linear regression\n",
    "\n",
    "Linear regression is a statistical model that studies the relationship between a dependent variable (Y) with a given set of independent variables (X). \n",
    "<code>sklearn.linear_model.LinearRegression</code> is the module used to implement linear regression."
   ]
  },
  {
   "cell_type": "code",
   "execution_count": 13,
   "metadata": {},
   "outputs": [
    {
     "name": "stdout",
     "output_type": "stream",
     "text": [
      "X =  [[1 1]\n",
      " [1 2]\n",
      " [2 2]\n",
      " [2 3]]\n",
      "y =  [ 6  8  9 11]\n"
     ]
    },
    {
     "data": {
      "text/html": [
       "<style>#sk-container-id-2 {color: black;background-color: white;}#sk-container-id-2 pre{padding: 0;}#sk-container-id-2 div.sk-toggleable {background-color: white;}#sk-container-id-2 label.sk-toggleable__label {cursor: pointer;display: block;width: 100%;margin-bottom: 0;padding: 0.3em;box-sizing: border-box;text-align: center;}#sk-container-id-2 label.sk-toggleable__label-arrow:before {content: \"▸\";float: left;margin-right: 0.25em;color: #696969;}#sk-container-id-2 label.sk-toggleable__label-arrow:hover:before {color: black;}#sk-container-id-2 div.sk-estimator:hover label.sk-toggleable__label-arrow:before {color: black;}#sk-container-id-2 div.sk-toggleable__content {max-height: 0;max-width: 0;overflow: hidden;text-align: left;background-color: #f0f8ff;}#sk-container-id-2 div.sk-toggleable__content pre {margin: 0.2em;color: black;border-radius: 0.25em;background-color: #f0f8ff;}#sk-container-id-2 input.sk-toggleable__control:checked~div.sk-toggleable__content {max-height: 200px;max-width: 100%;overflow: auto;}#sk-container-id-2 input.sk-toggleable__control:checked~label.sk-toggleable__label-arrow:before {content: \"▾\";}#sk-container-id-2 div.sk-estimator input.sk-toggleable__control:checked~label.sk-toggleable__label {background-color: #d4ebff;}#sk-container-id-2 div.sk-label input.sk-toggleable__control:checked~label.sk-toggleable__label {background-color: #d4ebff;}#sk-container-id-2 input.sk-hidden--visually {border: 0;clip: rect(1px 1px 1px 1px);clip: rect(1px, 1px, 1px, 1px);height: 1px;margin: -1px;overflow: hidden;padding: 0;position: absolute;width: 1px;}#sk-container-id-2 div.sk-estimator {font-family: monospace;background-color: #f0f8ff;border: 1px dotted black;border-radius: 0.25em;box-sizing: border-box;margin-bottom: 0.5em;}#sk-container-id-2 div.sk-estimator:hover {background-color: #d4ebff;}#sk-container-id-2 div.sk-parallel-item::after {content: \"\";width: 100%;border-bottom: 1px solid gray;flex-grow: 1;}#sk-container-id-2 div.sk-label:hover label.sk-toggleable__label {background-color: #d4ebff;}#sk-container-id-2 div.sk-serial::before {content: \"\";position: absolute;border-left: 1px solid gray;box-sizing: border-box;top: 0;bottom: 0;left: 50%;z-index: 0;}#sk-container-id-2 div.sk-serial {display: flex;flex-direction: column;align-items: center;background-color: white;padding-right: 0.2em;padding-left: 0.2em;position: relative;}#sk-container-id-2 div.sk-item {position: relative;z-index: 1;}#sk-container-id-2 div.sk-parallel {display: flex;align-items: stretch;justify-content: center;background-color: white;position: relative;}#sk-container-id-2 div.sk-item::before, #sk-container-id-2 div.sk-parallel-item::before {content: \"\";position: absolute;border-left: 1px solid gray;box-sizing: border-box;top: 0;bottom: 0;left: 50%;z-index: -1;}#sk-container-id-2 div.sk-parallel-item {display: flex;flex-direction: column;z-index: 1;position: relative;background-color: white;}#sk-container-id-2 div.sk-parallel-item:first-child::after {align-self: flex-end;width: 50%;}#sk-container-id-2 div.sk-parallel-item:last-child::after {align-self: flex-start;width: 50%;}#sk-container-id-2 div.sk-parallel-item:only-child::after {width: 0;}#sk-container-id-2 div.sk-dashed-wrapped {border: 1px dashed gray;margin: 0 0.4em 0.5em 0.4em;box-sizing: border-box;padding-bottom: 0.4em;background-color: white;}#sk-container-id-2 div.sk-label label {font-family: monospace;font-weight: bold;display: inline-block;line-height: 1.2em;}#sk-container-id-2 div.sk-label-container {text-align: center;}#sk-container-id-2 div.sk-container {/* jupyter's `normalize.less` sets `[hidden] { display: none; }` but bootstrap.min.css set `[hidden] { display: none !important; }` so we also need the `!important` here to be able to override the default hidden behavior on the sphinx rendered scikit-learn.org. See: https://github.com/scikit-learn/scikit-learn/issues/21755 */display: inline-block !important;position: relative;}#sk-container-id-2 div.sk-text-repr-fallback {display: none;}</style><div id=\"sk-container-id-2\" class=\"sk-top-container\"><div class=\"sk-text-repr-fallback\"><pre>LinearRegression(n_jobs=2)</pre><b>In a Jupyter environment, please rerun this cell to show the HTML representation or trust the notebook. <br />On GitHub, the HTML representation is unable to render, please try loading this page with nbviewer.org.</b></div><div class=\"sk-container\" hidden><div class=\"sk-item\"><div class=\"sk-estimator sk-toggleable\"><input class=\"sk-toggleable__control sk-hidden--visually\" id=\"sk-estimator-id-2\" type=\"checkbox\" checked><label for=\"sk-estimator-id-2\" class=\"sk-toggleable__label sk-toggleable__label-arrow\">LinearRegression</label><div class=\"sk-toggleable__content\"><pre>LinearRegression(n_jobs=2)</pre></div></div></div></div></div>"
      ],
      "text/plain": [
       "LinearRegression(n_jobs=2)"
      ]
     },
     "execution_count": 13,
     "metadata": {},
     "output_type": "execute_result"
    }
   ],
   "source": [
    "from sklearn.linear_model import LinearRegression\n",
    "X = np.array([[1,1],[1,2],[2,2],[2,3]])\n",
    "print(\"X = \" , X)\n",
    "y = np.dot(X,[1,2]) + 3\n",
    "print(\"y = \" ,y)\n",
    "lr = LinearRegression(fit_intercept=True,copy_X=True,n_jobs=2 )\n",
    "lr.fit(X,y)"
   ]
  },
  {
   "cell_type": "code",
   "execution_count": 14,
   "metadata": {},
   "outputs": [
    {
     "data": {
      "text/plain": [
       "1.0"
      ]
     },
     "execution_count": 14,
     "metadata": {},
     "output_type": "execute_result"
    }
   ],
   "source": [
    "# Altohugh it is not vwery useful, we can check the quality of the model on the training data.\n",
    "lr.score(X,y)"
   ]
  },
  {
   "cell_type": "code",
   "execution_count": 15,
   "metadata": {},
   "outputs": [
    {
     "data": {
      "text/plain": [
       "array([14.])"
      ]
     },
     "execution_count": 15,
     "metadata": {},
     "output_type": "execute_result"
    }
   ],
   "source": [
    "# We can predict the output for any given value by using predict method:\n",
    "lr.predict([[3,4]])"
   ]
  },
  {
   "cell_type": "markdown",
   "metadata": {},
   "source": [
    "## Logistic Regression\n",
    "\n",
    "Logistic regression is based on the linear regression, but it is useful for predicting discrete data. In other words, logistic regression is a classification algorithm rather than regression algorithm. Based on a given set of independent variables, it is used to estimate discrete value (0 or 1, yes/no, true/false).\n",
    "\n",
    "Basically, it measures the relationship between the categorical dependent variable and one or more independent variables by estimating the probability of occurrence of an event using its logistics function.\n",
    "\n",
    "<code>sklearn.linear_model.LogisticRegression</code> is the module used to implement logistic regression.\n",
    "\n"
   ]
  },
  {
   "cell_type": "code",
   "execution_count": 16,
   "metadata": {},
   "outputs": [
    {
     "name": "stdout",
     "output_type": "stream",
     "text": [
      "feature names =  ['sepal length (cm)', 'sepal width (cm)', 'petal length (cm)', 'petal width (cm)']\n",
      "target names =  ['setosa' 'versicolor' 'virginica']\n"
     ]
    }
   ],
   "source": [
    "from sklearn.datasets import load_iris\n",
    "iris = load_iris()\n",
    "X = iris.data\n",
    "y = iris.target\n",
    "feature_names = iris.feature_names\n",
    "target_names = iris.target_names\n",
    "print(\"feature names = \", feature_names)\n",
    "print(\"target names = \" ,target_names)"
   ]
  },
  {
   "cell_type": "code",
   "execution_count": 17,
   "metadata": {},
   "outputs": [
    {
     "name": "stdout",
     "output_type": "stream",
     "text": [
      "Train data :\n",
      "[[5.7 2.8 4.1 1.3]\n",
      " [6.5 3.  5.2 2. ]\n",
      " [5.3 3.7 1.5 0.2]\n",
      " [6.5 2.8 4.6 1.5]\n",
      " [6.3 2.9 5.6 1.8]\n",
      " [6.4 3.2 5.3 2.3]\n",
      " [4.7 3.2 1.3 0.2]\n",
      " [7.  3.2 4.7 1.4]\n",
      " [5.2 2.7 3.9 1.4]\n",
      " [6.4 2.9 4.3 1.3]]\n",
      "Train labels :\n",
      "[1 2 0 1 2 2 0 1 1 1]\n",
      "Test data :\n",
      "[[4.8 3.  1.4 0.1]\n",
      " [5.9 3.  5.1 1.8]\n",
      " [5.5 2.4 3.7 1. ]\n",
      " [6.2 2.2 4.5 1.5]\n",
      " [5.5 2.3 4.  1.3]\n",
      " [5.1 3.4 1.5 0.2]\n",
      " [6.1 2.8 4.  1.3]\n",
      " [6.2 3.4 5.4 2.3]\n",
      " [4.9 3.6 1.4 0.1]\n",
      " [5.  2.  3.5 1. ]]\n",
      "Test labels :\n",
      "[0 2 1 1 1 0 1 2 0 1]\n",
      "Train size =  90\n",
      "Test size =  60\n"
     ]
    }
   ],
   "source": [
    "# creating training and test set\n",
    "from sklearn.model_selection import train_test_split\n",
    "train_data  , test_data , train_label , test_label = train_test_split(X,y, train_size=0.6 , test_size=0.4)\n",
    "print(\"Train data :\")\n",
    "print(train_data[:10])\n",
    "\n",
    "print(\"Train labels :\")\n",
    "print(train_label[:10])\n",
    "\n",
    "print(\"Test data :\")\n",
    "print(test_data[:10])\n",
    "\n",
    "print(\"Test labels :\")\n",
    "print(test_label[:10])\n",
    "\n",
    "\n",
    "print(\"Train size = \" , len(train_data))\n",
    "\n",
    "print(\"Test size = \" , len(test_data))"
   ]
  },
  {
   "cell_type": "code",
   "execution_count": 18,
   "metadata": {},
   "outputs": [
    {
     "data": {
      "text/plain": [
       "0.9777777777777777"
      ]
     },
     "execution_count": 18,
     "metadata": {},
     "output_type": "execute_result"
    }
   ],
   "source": [
    "from sklearn.linear_model import LogisticRegression\n",
    "logr = LogisticRegression(n_jobs=2 , max_iter=1000)\n",
    "logr.fit(train_data,train_label)\n",
    "logr.score(train_data, train_label)"
   ]
  },
  {
   "cell_type": "code",
   "execution_count": 19,
   "metadata": {},
   "outputs": [
    {
     "data": {
      "text/plain": [
       "0.9833333333333333"
      ]
     },
     "execution_count": 19,
     "metadata": {},
     "output_type": "execute_result"
    }
   ],
   "source": [
    "# accuracy 95% shows that logistic regression on iris dataset is quite perfect.\n",
    "logr.score(test_data, test_label)"
   ]
  },
  {
   "cell_type": "markdown",
   "metadata": {},
   "source": [
    "## Ridge regression\n",
    "In ridge regression we modify the loss function by adding a penalty to make a slightly worse fit. This way, we can avoid overfiting to training data and achieve better predictions on testin data.\n",
    "\n",
    "In other words, least squared regression minimizes the sum of the squared residuals, but in ridge regression we minimize the sum of the squared residuals + alpha * slope^2. \n",
    "\n",
    "The predictions in ridge regression is less sensitive tio the independent variables. For alpha = 0 the ridge regression is similar to least square regression. When we increase alpha, the slope of the regression lione decreases and it makes the regression less sensitive to the input value. Therefore, we call this alpha paramter a penalty parameter. If we increase penalty parameter, our model becomes less sensitive to the training data and it prevents overfiting and bias.\n",
    "\n",
    "<code>sklearn.linear_model.Ridge</code> is the module used to solve a regression model where loss function is the linear least squares function and regularization is L2."
   ]
  },
  {
   "cell_type": "code",
   "execution_count": 20,
   "metadata": {},
   "outputs": [
    {
     "name": "stdout",
     "output_type": "stream",
     "text": [
      "Linear regression score 0.7949095403789805\n",
      "Ridge regression score 0.7629498741931634\n"
     ]
    }
   ],
   "source": [
    "from sklearn.linear_model import Ridge\n",
    "from sklearn.linear_model import LinearRegression\n",
    "from sklearn.model_selection import train_test_split\n",
    "n_samples, n_features = 15, 10\n",
    "rng = np.random.RandomState(0)\n",
    "y = rng.randn(n_samples)\n",
    "X = rng.randn(n_samples, n_features)\n",
    "\n",
    "lrg = LinearRegression()\n",
    "rrg = Ridge(alpha=0.5)\n",
    "lrg.fit(X , y)\n",
    "print(\"Linear regression score\" , lrg.score(X , y))\n",
    "\n",
    "rrg.fit(X , y)\n",
    "print(\"Ridge regression score\" ,rrg.score(X , y))\n"
   ]
  },
  {
   "cell_type": "markdown",
   "metadata": {},
   "source": [
    "As you can see, the score of the linear regression is higher and it shows that the linear regression is ovderfiting while the penalty paramter in the ridge regression is preveting the overfit. Now, we test a higher value of the alpha for the same data:"
   ]
  },
  {
   "cell_type": "code",
   "execution_count": 21,
   "metadata": {},
   "outputs": [
    {
     "data": {
      "text/plain": [
       "0.7248981843700946"
      ]
     },
     "execution_count": 21,
     "metadata": {},
     "output_type": "execute_result"
    }
   ],
   "source": [
    "rrg.set_params(alpha= 1)\n",
    "rrg.fit(X,y)\n",
    "rrg.score(X,y)"
   ]
  },
  {
   "cell_type": "markdown",
   "metadata": {},
   "source": [
    "## LASSO \n",
    "LASSO is the regularisation technique that performs L1 regularisation. It modifies the loss function by adding the penalty (shrinkage quantity) equivalent to the summation of the absolute value of coefficients."
   ]
  },
  {
   "cell_type": "code",
   "execution_count": 27,
   "metadata": {},
   "outputs": [
    {
     "data": {
      "text/plain": [
       "0.136141297194326"
      ]
     },
     "execution_count": 27,
     "metadata": {},
     "output_type": "execute_result"
    }
   ],
   "source": [
    "from sklearn.linear_model import Lasso\n",
    "lasso = Lasso(alpha=0.5)\n",
    "lasso.fit(X,y)\n",
    "lasso.score(X,y)"
   ]
  },
  {
   "cell_type": "markdown",
   "metadata": {},
   "source": [
    "## Polynomial features\n",
    "Polynomial features are those features created by raising existing features to an exponent.\n",
    "\n",
    "For example, if a dataset had one input feature X, then a polynomial feature would be the addition of a new feature (column) where values were calculated by squaring the values in X, e.g. X^2. This process can be repeated for each input variable in the dataset, creating a transformed version of each. The “degree” of the polynomial is used to control the number of features added, e.g. a degree of 3 will add two new variables for each input variable. Typically a small degree is used such as 2 or 3.\n",
    "\n",
    "Generally speaking, it is unusual to use d greater than 3 or 4 because for large values of d, the polynomial curve can become overly flexible and can take on some very strange shapes. It is also common to add new variables that represent the interaction between features, e.g a new column that represents one variable multiplied by another. This too can be repeated for each input variable creating a new “interaction” variable for each pair of input variables.\n",
    "\n",
    "A squared or cubed version of an input variable will change the probability distribution, separating the small and large values, a separation that is increased with the size of the exponent. This separation can help some machine learning algorithms make better predictions and is common for regression predictive modeling tasks and generally tasks that have numerical input variables.\n",
    "\n",
    "Typically linear algorithms, such as linear regression and logistic regression, respond well to the use of polynomial input variables.\n",
    "\n",
    "scikit-learn provides a module named <strong>PolynomialFeatures</strong>. This module transforms an input data matrix into a new data matrix of given degree."
   ]
  },
  {
   "cell_type": "code",
   "execution_count": 42,
   "metadata": {},
   "outputs": [
    {
     "name": "stdout",
     "output_type": "stream",
     "text": [
      "[[ 0  1]\n",
      " [ 2  3]\n",
      " [ 4  5]\n",
      " [ 6  7]\n",
      " [ 8  9]\n",
      " [10 11]\n",
      " [12 13]\n",
      " [14 15]\n",
      " [16 17]\n",
      " [18 19]\n",
      " [20 21]\n",
      " [22 23]\n",
      " [24 25]\n",
      " [26 27]\n",
      " [28 29]\n",
      " [30 31]\n",
      " [32 33]\n",
      " [34 35]]\n",
      "\n",
      "[[1.000e+00 0.000e+00 1.000e+00 0.000e+00 0.000e+00 1.000e+00]\n",
      " [1.000e+00 2.000e+00 3.000e+00 4.000e+00 6.000e+00 9.000e+00]\n",
      " [1.000e+00 4.000e+00 5.000e+00 1.600e+01 2.000e+01 2.500e+01]\n",
      " [1.000e+00 6.000e+00 7.000e+00 3.600e+01 4.200e+01 4.900e+01]\n",
      " [1.000e+00 8.000e+00 9.000e+00 6.400e+01 7.200e+01 8.100e+01]\n",
      " [1.000e+00 1.000e+01 1.100e+01 1.000e+02 1.100e+02 1.210e+02]\n",
      " [1.000e+00 1.200e+01 1.300e+01 1.440e+02 1.560e+02 1.690e+02]\n",
      " [1.000e+00 1.400e+01 1.500e+01 1.960e+02 2.100e+02 2.250e+02]\n",
      " [1.000e+00 1.600e+01 1.700e+01 2.560e+02 2.720e+02 2.890e+02]\n",
      " [1.000e+00 1.800e+01 1.900e+01 3.240e+02 3.420e+02 3.610e+02]\n",
      " [1.000e+00 2.000e+01 2.100e+01 4.000e+02 4.200e+02 4.410e+02]\n",
      " [1.000e+00 2.200e+01 2.300e+01 4.840e+02 5.060e+02 5.290e+02]\n",
      " [1.000e+00 2.400e+01 2.500e+01 5.760e+02 6.000e+02 6.250e+02]\n",
      " [1.000e+00 2.600e+01 2.700e+01 6.760e+02 7.020e+02 7.290e+02]\n",
      " [1.000e+00 2.800e+01 2.900e+01 7.840e+02 8.120e+02 8.410e+02]\n",
      " [1.000e+00 3.000e+01 3.100e+01 9.000e+02 9.300e+02 9.610e+02]\n",
      " [1.000e+00 3.200e+01 3.300e+01 1.024e+03 1.056e+03 1.089e+03]\n",
      " [1.000e+00 3.400e+01 3.500e+01 1.156e+03 1.190e+03 1.225e+03]]\n"
     ]
    }
   ],
   "source": [
    "# In this example, PolynomialFeatures is used to create polynomial features of up to power of two\n",
    "from sklearn.preprocessing import PolynomialFeatures\n",
    "import numpy as np\n",
    "X = np.arange(36).reshape(18,2)\n",
    "print(X)\n",
    "print()\n",
    "poly = PolynomialFeatures(degree=2)\n",
    "Xt = poly.fit_transform(X)\n",
    "print(Xt)"
   ]
  },
  {
   "cell_type": "code",
   "execution_count": 45,
   "metadata": {},
   "outputs": [
    {
     "name": "stdout",
     "output_type": "stream",
     "text": [
      "[ 100  106  120  142  172  210  256  310  372  442  520  606  700  802\n",
      "  912 1030 1156  100]\n"
     ]
    }
   ],
   "source": [
    "# Here we create a target array with one outlier to compare the performance of the logistic regression on the original dataset and the extended dataset\n",
    "y = X[:,0]*X[:,1]+100\n",
    "y[-1] = 100\n",
    "print(y)"
   ]
  },
  {
   "cell_type": "code",
   "execution_count": 47,
   "metadata": {},
   "outputs": [
    {
     "name": "stdout",
     "output_type": "stream",
     "text": [
      "0.4444444444444444\n",
      "0.8888888888888888\n"
     ]
    },
    {
     "name": "stderr",
     "output_type": "stream",
     "text": [
      "/Users/atp/Work/git/AI/scikit-learn/.sklearn/lib/python3.10/site-packages/sklearn/linear_model/_logistic.py:444: ConvergenceWarning: lbfgs failed to converge (status=1):\n",
      "STOP: TOTAL NO. of ITERATIONS REACHED LIMIT.\n",
      "\n",
      "Increase the number of iterations (max_iter) or scale the data as shown in:\n",
      "    https://scikit-learn.org/stable/modules/preprocessing.html\n",
      "Please also refer to the documentation for alternative solver options:\n",
      "    https://scikit-learn.org/stable/modules/linear_model.html#logistic-regression\n",
      "  n_iter_i = _check_optimize_result(\n"
     ]
    }
   ],
   "source": [
    "from sklearn.linear_model import LogisticRegression\n",
    "from sklearn.preprocessing import MinMaxScaler\n",
    "from sklearn.preprocessing import normalize\n",
    "\n",
    "logr = LogisticRegression(max_iter=1000)\n",
    "logr.fit(X,y)\n",
    "print(logr.score(X,y))\n",
    "\n",
    "\n",
    "logr2 = LogisticRegression(max_iter=1000)\n",
    "logr2.fit(Xt,y)\n",
    "print(logr2.score(Xt,y))"
   ]
  },
  {
   "cell_type": "markdown",
   "metadata": {},
   "source": [
    "## SGD optimization\n",
    "\n",
    "The name Stochastic Gradient Descent - Classifier (SGD-Classifier) might mislead some user to think that SGD is a classifier. But that’s not the case! SGD Classifier is a linear classifier (SVM, logistic regression, a.o.) optimized by the SGD. These are two different concepts. While SGD is a optimization method, Logistic Regression or linear Support Vector Machine is a machine learning algorithm/model. You can think of that a machine learning model defines a loss function, and the optimization method minimizes/maximizes it.\n",
    "\n",
    "In a nutshell gradient descent is used to minimize a cost function. Gradient descent is one of the most popular algorithms to perform optimization and by far the most common way to optimize neural networks. But we can also use these kinds of algorithms to optimize our linear classifier such as Logistic Regression and linear Support Vecotor Machines.\n",
    "\n",
    "\n",
    "Scikit-learn provides <code>SGDClassifier</code> module to implement SGD classification.\n",
    "\n",
    "In the following example we use SGDClassifier with logistic regression to train a model on iris dataset"
   ]
  },
  {
   "cell_type": "code",
   "execution_count": 50,
   "metadata": {},
   "outputs": [],
   "source": [
    "from sklearn.datasets import load_breast_cancer\n",
    "breast_cancer = load_breast_cancer()"
   ]
  },
  {
   "cell_type": "code",
   "execution_count": 57,
   "metadata": {},
   "outputs": [
    {
     "name": "stdout",
     "output_type": "stream",
     "text": [
      "['malignant' 'benign']\n",
      "\n",
      "[1.799e+01 1.038e+01 1.228e+02 1.001e+03 1.184e-01 2.776e-01 3.001e-01\n",
      " 1.471e-01 2.419e-01 7.871e-02 1.095e+00 9.053e-01 8.589e+00 1.534e+02\n",
      " 6.399e-03 4.904e-02 5.373e-02 1.587e-02 3.003e-02 6.193e-03 2.538e+01\n",
      " 1.733e+01 1.846e+02 2.019e+03 1.622e-01 6.656e-01 7.119e-01 2.654e-01\n",
      " 4.601e-01 1.189e-01]\n",
      "\n",
      "[ 1.09706398 -2.07333501  1.26993369  0.9843749   1.56846633  3.28351467\n",
      "  2.65287398  2.53247522  2.21751501  2.25574689  2.48973393 -0.56526506\n",
      "  2.83303087  2.48757756 -0.21400165  1.31686157  0.72402616  0.66081994\n",
      "  1.14875667  0.90708308  1.88668963 -1.35929347  2.30360062  2.00123749\n",
      "  1.30768627  2.61666502  2.10952635  2.29607613  2.75062224  1.93701461]\n",
      "\n",
      "[[0.52103744 0.0226581  0.54598853 ... 0.91202749 0.59846245 0.41886396]\n",
      " [0.64314449 0.27257355 0.61578329 ... 0.63917526 0.23358959 0.22287813]\n",
      " [0.60149557 0.3902604  0.59574321 ... 0.83505155 0.40370589 0.21343303]\n",
      " ...\n",
      " [0.45525108 0.62123774 0.44578813 ... 0.48728522 0.12872068 0.1519087 ]\n",
      " [0.64456434 0.66351031 0.66553797 ... 0.91065292 0.49714173 0.45231536]\n",
      " [0.03686876 0.50152181 0.02853984 ... 0.         0.25744136 0.10068215]]\n"
     ]
    }
   ],
   "source": [
    "from sklearn.preprocessing import scale\n",
    "from sklearn.preprocessing import MinMaxScaler\n",
    "X = breast_cancer.data\n",
    "y = breast_cancer.target\n",
    "print(breast_cancer.target_names)\n",
    "print()\n",
    "X_centered  = scale(X)\n",
    "print(X[0])\n",
    "print()\n",
    "print(X_centered[0])\n",
    "print()\n",
    "X_scaled = MinMaxScaler().fit_transform(X_centered)\n",
    "print(X_scaled)\n"
   ]
  },
  {
   "cell_type": "code",
   "execution_count": 59,
   "metadata": {},
   "outputs": [
    {
     "data": {
      "text/plain": [
       "0.9824253075571178"
      ]
     },
     "execution_count": 59,
     "metadata": {},
     "output_type": "execute_result"
    }
   ],
   "source": [
    "from sklearn.linear_model import SGDClassifier\n",
    "sgd_classifier = SGDClassifier(loss=\"log_loss\")\n",
    "sgd_classifier.fit(X_scaled,y)\n",
    "sgd_classifier.score(X_scaled,y)"
   ]
  },
  {
   "cell_type": "code",
   "execution_count": 60,
   "metadata": {},
   "outputs": [
    {
     "data": {
      "text/plain": [
       "0.9718804920913884"
      ]
     },
     "execution_count": 60,
     "metadata": {},
     "output_type": "execute_result"
    }
   ],
   "source": [
    "from sklearn.linear_model import LogisticRegression\n",
    "linear_classifier = LogisticRegression()\n",
    "linear_classifier.fit(X_scaled , y)\n",
    "linear_classifier.score(X_scaled , y)"
   ]
  },
  {
   "cell_type": "markdown",
   "metadata": {},
   "source": [
    "# Support vector machine\n",
    "\n",
    "A support vector machine (SVM) is a type of deep learning algorithm that performs supervised learning for classification or regression of data groups. It draws lines (hyperplanes) to separate the groups according to patterns.\n",
    "\n",
    "Like other supervised learning machines, an SVM requires labeled data to be trained. Groups of materials are labeled for classification. Training materials for SVMs are classified separately in different points in space and organized into clearly separated groups. \n",
    "\n",
    "According to the SVM algorithm we find the points closest to the line from both the classes. These points are called support vectors. Now, we compute the distance between the line and the support vectors. This distance is called the margin. Our goal is to maximize the margin. The hyperplane for which the margin is maximum is the optimal hyperplane.\n",
    "\n",
    "\n",
    "There are two imporant parameters that you can pass to change the way this hyperplane is created:\n",
    "\n",
    "<h4>C:</h4>\n",
    "It controls the trade off between smooth decision boundary and classifying training points correctly. A large value of c means you will get more training points correctly.\n",
    "\n",
    "\n",
    "<strong>Smooth decision boundary vs classifying all points correctly</strong>\n",
    "\n",
    "Consider an example as shown in the figure above. There are a number of decision boundaries that we can draw for this dataset. Consider a straight (green colored) decision boundary which is quite simple but it comes at the cost of a few points being misclassified. These misclassified points are called outliers. We can also make something that is considerably more wiggly(sky blue colored decision boundary) but where we get potentially all of the training points correct. Of course the trade off having something that is very intricate, very complicated like this is that chances are it is not going to generalize quite as well to our test set. So something that is simple, more straight maybe actually the better choice if you look at the accuracy. Large value of c means you will get more intricate decision curves trying to fit in all the points. Figuring out how much you want to have a smooth decision boundary vs one that gets things correct is part of artistry of machine learning. So try different values of c for your dataset to get the perfectly balanced curve and avoid over fitting.\n",
    "\n",
    "<h4>Gamma:</h4>\n",
    "\n",
    "It defines how far the influence of a single training example reaches. If it has a low value it means that every point has a far reach and conversely high value of gamma means that every point has close reach.\n",
    "\n",
    "If gamma has a very high value, then the decision boundary is just going to be dependent upon the points that are very close to the line which effectively results in ignoring some of the points that are very far from the decision boundary. This is because the closer points get more weight and it results in a wiggly curve as shown in previous graph.On the other hand, if the gamma value is low even the far away points get considerable weight and we get a more linear curve.\n",
    "\n"
   ]
  },
  {
   "cell_type": "code",
   "execution_count": 61,
   "metadata": {},
   "outputs": [
    {
     "data": {
      "text/plain": [
       "0.9226713532513181"
      ]
     },
     "execution_count": 61,
     "metadata": {},
     "output_type": "execute_result"
    }
   ],
   "source": [
    "from sklearn.svm import SVC\n",
    "svc = SVC()\n",
    "svc.fit(X,y)\n",
    "svc.score(X,y)"
   ]
  },
  {
   "cell_type": "code",
   "execution_count": 64,
   "metadata": {},
   "outputs": [
    {
     "data": {
      "text/plain": [
       "0.9279437609841827"
      ]
     },
     "execution_count": 64,
     "metadata": {},
     "output_type": "execute_result"
    }
   ],
   "source": [
    "svc = SVC(C=2)\n",
    "svc.fit(X,y)\n",
    "svc.score(X,y)\n",
    "\n",
    "# Larger value of C results in a larger score on training data"
   ]
  },
  {
   "cell_type": "markdown",
   "metadata": {},
   "source": [
    "# Anomaly detection\n",
    "\n",
    "Anomaly detection is one of the most common use cases of machine learning. Generally speaking, an anomaly is something that differs from a norm: a deviation, an exception.\n",
    "\n",
    "There are different type of anomalies:\n",
    "\n",
    "Now let’s see what kinds of anomalies or outliers machine learning engineers usually have to face.\n",
    "\n",
    "1. Global outliers\n",
    "When a data point assumes a value that is far outside all the other data point value ranges in the dataset, it can be considered a global anomaly. In other words, it’s a rare event. For example, if you receive an average American salary to your bank accounts each month but one day get a million dollars, that would look like a global anomaly to the bank’s analytics team.\n",
    "\n",
    "2. Contextual outliers\n",
    "When an outlier is called contextual it means that its value doesn’t correspond with what we expect to observe for a similar data point in the same context. Contexts are usually temporal, and the same situation observed at different times can be not an outlier. For example, for stores it’s quite normal to experience an increase in customers during the holiday season. However, if a sudden boost happens outside of holidays or sales, it can be considered a contextual outlier.\n",
    "\n",
    "3. Collective outliers\n",
    "Collective outliers are represented by a subset of data points that deviate from the normal behavior. In general, tech companies tend to grow bigger and bigger. Some companies may decay but it’s not a general trend. However, if many companies at once show a decrease in revenue in the same period of time, we can identify a collective outlier."
   ]
  },
  {
   "cell_type": "markdown",
   "metadata": {},
   "source": [
    "## Outlier detection using Elliptical Envelope\n",
    "\n",
    "<img src=\"./images/elliptic.png\" width=\"400\" />\n",
    "\n",
    "Elliptical Envelope creates an imaginary elliptical area around a given dataset. Values that fall inside the envelope are considered normal data and anything outside the envelope is returned as outliers. So, naturally, the red data points in the above diagram should be identified as outliers by this algorithm. As evident from this figure, the algorithm works best if data has a Gaussian distribution."
   ]
  },
  {
   "cell_type": "code",
   "execution_count": 33,
   "metadata": {},
   "outputs": [
    {
     "name": "stdout",
     "output_type": "stream",
     "text": [
      "[[ -4.89113486   0.12525452]\n",
      " [  1.78377705   3.08078814]\n",
      " [  2.38239307   0.58366144]\n",
      " [  1.23202448  -6.84017949]\n",
      " [ -0.17687348  -4.94313588]\n",
      " [ -4.01089115  -1.06162334]\n",
      " [ -0.58697058  -4.37487683]\n",
      " [ -2.61499085   1.49037116]\n",
      " [  1.21600965  -0.54101647]\n",
      " [ -5.98626993  -0.70928507]\n",
      " [  3.23356224  -0.12803287]\n",
      " [ -6.6361923    1.59644045]\n",
      " [ -3.43893247   8.62564066]\n",
      " [  0.30304533   1.52464328]\n",
      " [  0.38206085  -0.37426621]\n",
      " [  0.91752293   5.34227207]\n",
      " [  1.01075852   1.15382739]\n",
      " [ -0.67995003  -5.96130476]\n",
      " [ -3.1131058    5.27909966]\n",
      " [  6.09654775  -6.49947791]\n",
      " [  0.83588302   9.03132906]\n",
      " [ -1.94399328  -5.50172492]\n",
      " [ -4.42709914  -2.69357127]\n",
      " [  2.6925868    3.76943987]\n",
      " [  5.75967567  -2.22185451]\n",
      " [ -1.22016419  -0.18821789]\n",
      " [  0.59451692   1.21143621]\n",
      " [  1.71067184  -3.32502548]\n",
      " [  2.15506976  -1.83088778]\n",
      " [ -0.62389741   2.9865708 ]\n",
      " [ -5.50700929  -2.9907178 ]\n",
      " [  6.09176348   1.01707529]\n",
      " [  3.78327112  -0.39810055]\n",
      " [  3.30369281  -2.69323381]\n",
      " [  1.53372807  -0.51767033]\n",
      " [ -0.3619225   -1.81241935]\n",
      " [ -2.60845708   2.97176429]\n",
      " [  2.9683587   -5.6542764 ]\n",
      " [ -2.71999791  -1.87527894]\n",
      " [  3.58616129  -5.75213277]\n",
      " [  3.03950374   1.96432881]\n",
      " [ -2.60424535  -0.92274497]\n",
      " [ -0.06694227  -2.47177974]\n",
      " [  2.43910937  -1.20142844]\n",
      " [  3.92946824   1.26734029]\n",
      " [  2.30975623  -2.17810761]\n",
      " [  0.4748678    3.05045104]\n",
      " [ -5.50066083   0.81883997]\n",
      " [ -2.405749    -5.51104648]\n",
      " [ -0.42144584  -2.14039277]\n",
      " [  1.          10.        ]\n",
      " [  1.          18.        ]\n",
      " [ 20.           0.        ]\n",
      " [-10.           8.        ]\n",
      " [-15.           7.        ]\n",
      " [ 20.          20.        ]]\n"
     ]
    },
    {
     "data": {
      "text/plain": [
       "<matplotlib.collections.PathCollection at 0x1323f0730>"
      ]
     },
     "execution_count": 33,
     "metadata": {},
     "output_type": "execute_result"
    },
    {
     "data": {
      "image/png": "[encoded data removed]",
      "text/plain": [
       "<Figure size 800x800 with 1 Axes>"
      ]
     },
     "metadata": {},
     "output_type": "display_data"
    }
   ],
   "source": [
    "# using sklearn for anomaly detection\n",
    "import numpy as np\n",
    "import matplotlib.pyplot as plt\n",
    "outliers = np.array([[1,10],[1,18],[20,0],[-10,8],[-15,7],[20,20]])\n",
    "data = np.random.normal(0,3,(50,2))\n",
    "data = np.append(data,outliers,axis=0)\n",
    "print(data)\n",
    "fig, axis = plt.subplots(figsize=(8,8))\n",
    "axis.scatter(data[:,0],data[:,1])"
   ]
  },
  {
   "cell_type": "code",
   "execution_count": 36,
   "metadata": {},
   "outputs": [
    {
     "name": "stdout",
     "output_type": "stream",
     "text": [
      "[-1]\n",
      "[1]\n",
      "[1]\n",
      "[-1]\n",
      "[1]\n"
     ]
    }
   ],
   "source": [
    "from sklearn.covariance import EllipticEnvelope\n",
    "ee = EllipticEnvelope()\n",
    "ee.fit(data)\n",
    "print(ee.predict([[20,10]]))\n",
    "print(ee.predict([[5,3]]))\n",
    "print(ee.predict([[0,0]]))\n",
    "print(ee.predict([[11,2]]))\n",
    "print(ee.predict([[-6,4]]))"
   ]
  },
  {
   "cell_type": "markdown",
   "metadata": {},
   "source": [
    "## Isolcation forest \n",
    "In case of high-dimensional dataset, one efficient way for outlier detection is to use random forests. Isolation Forests(IF), similar to Random Forests, are build based on decision trees. And since there are no pre-defined labels here, it is an unsupervised model.\n",
    "\n",
    "Isolation Forests were built based on the fact that anomalies are the data points that are “few and different”. In an Isolation Forest, randomly sub-sampled data is processed in a tree structure based on randomly selected features. The samples that travel deeper into the tree are less likely to be anomalies as they required more cuts to isolate them. Similarly, the samples which end up in shorter branches indicate anomalies as it was easier for the tree to separate them from other observations.\n",
    "\n",
    "In sklearn <code>sklearn.ensemble.IsolationForest</code> can be used for anomaly detection."
   ]
  },
  {
   "cell_type": "code",
   "execution_count": 38,
   "metadata": {},
   "outputs": [
    {
     "name": "stdout",
     "output_type": "stream",
     "text": [
      "[-1]\n",
      "[1]\n",
      "[1]\n",
      "[-1]\n",
      "[1]\n"
     ]
    }
   ],
   "source": [
    "from sklearn.ensemble import IsolationForest\n",
    "iF = IsolationForest()\n",
    "iF.fit(data)\n",
    "print(iF.predict([[20,10]]))\n",
    "print(iF.predict([[5,3]]))\n",
    "print(iF.predict([[0,0]]))\n",
    "print(iF.predict([[11,2]]))\n",
    "print(iF.predict([[-6,4]]))"
   ]
  },
  {
   "cell_type": "markdown",
   "metadata": {},
   "source": [
    "## Local Outlier Factor (LOF)\n",
    "\n",
    "Local Outlier Factor (LOF) algorithm is another efficient algorithm to perform outlier detection on high dimension data.  The scikit-learn provides <code>neighbors.LocalOutlierFactor</code> method that computes a score, called local outlier factor, reflecting the degree of anomality of the observations. The main logic of this algorithm is to detect the samples that have a substantially lower density than its neighbors. Thats why it measures the local density deviation of given data points w.r.t. their neighbors."
   ]
  },
  {
   "cell_type": "code",
   "execution_count": 40,
   "metadata": {},
   "outputs": [
    {
     "name": "stdout",
     "output_type": "stream",
     "text": [
      "[-1]\n",
      "[1]\n",
      "[1]\n",
      "[-1]\n",
      "[1]\n"
     ]
    }
   ],
   "source": [
    "from sklearn.neighbors import LocalOutlierFactor\n",
    "lo = LocalOutlierFactor(novelty=True)\n",
    "lo.fit(data)\n",
    "print(lo.predict([[20,10]]))\n",
    "print(lo.predict([[5,3]]))\n",
    "print(lo.predict([[0,0]]))\n",
    "print(lo.predict([[11,2]]))\n",
    "print(lo.predict([[-6,4]]))"
   ]
  },
  {
   "cell_type": "markdown",
   "metadata": {},
   "source": [
    "# KNN \n",
    "\n",
    "The k-nearest neighbors (KNN) algorithm is a simple, easy-to-implement supervised machine learning algorithm that can be used to solve both classification and regression problems\n",
    "\n",
    "* In k-NN classification, the output is a class membership. An object is classified by a plurality vote of its neighbors, with the object being assigned to the class most common among its k nearest neighbors (k is a positive integer, typically small). If k = 1, then the object is simply assigned to the class of that single nearest neighbor.\n",
    "* In k-NN regression, the output is the property value for the object. This value is the average of the values of k nearest neighbors.\n",
    "\n",
    "k-NN (k-Nearest Neighbor), one of the simplest machine learning algorithms, is non-parametric and lazy in nature. Non-parametric means that there is no assumption for the underlying data distribution i.e. the model structure is determined from the dataset. Lazy or instance-based learning means that for the purpose of model generation, it does not require any training data points and whole training data is used in the testing phase.\n",
    "\n",
    "\n",
    "<h3>KNN Algorithms</h3>\n",
    "\n",
    "1. Brute Force\n",
    "2. K-D Tree\n",
    "3. Ball Tree\n",
    "\n",
    "<h3>Brute-force </h3>\n",
    "\n",
    "The brute-force computation of distances between all pairs of points in the dataset provides the most naïve neighbor search implementation. Mathematically, for N samples in D dimensions, brute-force approach scales as <code>O[DN]</code>\n",
    "\n",
    "For small data samples, this algorithm can be very useful, but it becomes infeasible as and when number of samples grows.\n",
    "\n",
    "<h3>K-D Tree</h3>\n",
    "One of the tree-based data structures that have been invented to address the computational inefficiencies of the brute-force approach, is KD tree data structure. Basically, the KD tree is a binary tree structure which is called K-dimensional tree. It recursively partitions the parameters space along the data axes by dividing it into nested orthographic regions into which the data points are filled.\n",
    "\n",
    "<h3>Ball Tree</h3>\n",
    "As we know that KD Tree is inefficient in higher dimensions, hence, to address this inefficiency of KD Tree, Ball tree data structure was developed. Mathematically, it recursively divides the data, into nodes defined by a centroid C and radius r, in such a way that each point in the node lies within the hyper-sphere defined by centroid C and radius r. It uses triangle inequality, given below, which reduces the number of candidate points for a neighbor search"
   ]
  },
  {
   "cell_type": "markdown",
   "metadata": {},
   "source": [
    "## KNeighborsClassifier\n",
    "<code>sklearn.neighbors.KNeighborsClassifier</code> is the module used to create KNN classifier. It uses specific nearest neighbor algorithms named BallTree, KDTree or Brute Force. In other words, it acts as a uniform interface to these three algorithms."
   ]
  },
  {
   "cell_type": "code",
   "execution_count": 56,
   "metadata": {},
   "outputs": [
    {
     "name": "stdout",
     "output_type": "stream",
     "text": [
      "0.9555555555555556\n",
      "0.9555555555555556\n",
      "0.9555555555555556\n"
     ]
    }
   ],
   "source": [
    "from sklearn.neighbors import KNeighborsClassifier\n",
    "from sklearn.datasets import load_iris\n",
    "from sklearn.model_selection import train_test_split\n",
    "data = load_iris()\n",
    "y = data.target\n",
    "X = data.data\n",
    "x_train, x_test, y_train, y_test = train_test_split(X,y, test_size=0.3,train_size=0.7)\n",
    "knn_classifier = KNeighborsClassifier(algorithm=\"brute\")\n",
    "knn_classifier.fit(x_train,y_train)\n",
    "print(knn_classifier.score(x_test,y_test))\n",
    "\n",
    "knn_classifier2 = KNeighborsClassifier(algorithm=\"ball_tree\")\n",
    "knn_classifier2.fit(x_train,y_train)\n",
    "print(knn_classifier2.score(x_test,y_test))\n",
    "\n",
    "knn_classifier3 = KNeighborsClassifier(algorithm=\"kd_tree\")\n",
    "knn_classifier3.fit(x_train,y_train)\n",
    "print(knn_classifier3.score(x_test,y_test))\n",
    "# As you can see, the prediction score does not change by changing different neighbors algorithms."
   ]
  },
  {
   "cell_type": "code",
   "execution_count": 69,
   "metadata": {},
   "outputs": [
    {
     "data": {
      "text/plain": [
       "[<matplotlib.lines.Line2D at 0x135787a90>]"
      ]
     },
     "execution_count": 69,
     "metadata": {},
     "output_type": "execute_result"
    },
    {
     "data": {
      "image/png": "[encoded data removed]",
      "text/plain": [
       "<Figure size 640x480 with 1 Axes>"
      ]
     },
     "metadata": {},
     "output_type": "display_data"
    }
   ],
   "source": [
    "# However, changing the n_neighbors parameter causes different accuracy\n",
    "import matplotlib.pyplot as plt\n",
    "x = []\n",
    "for n in range(1,50):\n",
    "    knn_classifier = KNeighborsClassifier(n_neighbors=n)\n",
    "    knn_classifier.fit(x_train,y_train)\n",
    "    x.append(knn_classifier.score(x_test,y_test))\n",
    "fix, axes = plt.subplots(1,1)\n",
    "axes.plot(x)"
   ]
  },
  {
   "cell_type": "markdown",
   "metadata": {},
   "source": [
    "## KNeighborsRegressor\n",
    "<code>sklearn.neighbors.KNeighborsRegressor</code> is the module used to create KNN regressor. It uses specific nearest neighbor algorithms named BallTree, KDTree or Brute Force. In other words, it acts as a uniform interface to these three algorithms."
   ]
  },
  {
   "cell_type": "code",
   "execution_count": 122,
   "metadata": {},
   "outputs": [
    {
     "data": {
      "text/plain": [
       "<matplotlib.collections.PathCollection at 0x137584190>"
      ]
     },
     "execution_count": 122,
     "metadata": {},
     "output_type": "execute_result"
    },
    {
     "data": {
      "image/png": "[encoded data removed]",
      "text/plain": [
       "<Figure size 640x480 with 2 Axes>"
      ]
     },
     "metadata": {},
     "output_type": "display_data"
    }
   ],
   "source": [
    "X = np.array(range(-20,20,2))\n",
    "Z = np.setdiff1d( np.array(range(-20,20,3)) , X)\n",
    "X = X.reshape(-1,1)\n",
    "y = X**3\n",
    "figs , axis = plt.subplots(1,2)\n",
    "axis[0].scatter(X,y, marker=\".\")\n",
    "from sklearn.neighbors import KNeighborsRegressor\n",
    "knn_regressor = KNeighborsRegressor()\n",
    "knn_regressor.fit(X,y)\n",
    "Z = Z.reshape(-1,1)\n",
    "t = knn_regressor.predict(Z)\n",
    "axis[1].scatter(Z,t, marker=\".\")"
   ]
  },
  {
   "cell_type": "markdown",
   "metadata": {},
   "source": [
    "# Classification with Naïve Bayes\n",
    "\n",
    "Naïve Bayes methods are a set of supervised learning algorithms based on applying Bayes’ theorem with a strong assumption that all the predictors are independent to each other i.e. the presence of a feature in a class is independent to the presence of any other feature in the same class. This is naïve assumption that is why these methods are called Naïve Bayes methods.\n",
    "\n",
    "The Scikit-learn provides different naïve Bayes classifiers models namely Gaussian, Multinomial, Complement and Bernoulli. All of them differ mainly by the assumption they make regarding the distribution of P(features⏐Y) i.e. the probability of predictor given class."
   ]
  },
  {
   "cell_type": "code",
   "execution_count": 123,
   "metadata": {},
   "outputs": [
    {
     "name": "stdout",
     "output_type": "stream",
     "text": [
      "0.9777777777777777\n"
     ]
    }
   ],
   "source": [
    "from sklearn.naive_bayes import GaussianNB\n",
    "from sklearn.datasets import load_iris\n",
    "from sklearn.model_selection import train_test_split\n",
    "data = load_iris()\n",
    "X = data.data\n",
    "y = data.target\n",
    "X_train, X_test , y_train, y_test = train_test_split(X,y,train_size=0.7,test_size=0.3)\n",
    "gnb = GaussianNB()\n",
    "gnb.fit(X_train,y_train)\n",
    "print(gnb.score(X_test,y_test))"
   ]
  },
  {
   "cell_type": "markdown",
   "metadata": {},
   "source": [
    "# Decision trees\n",
    "\n",
    "Decisions tress (DTs) are the most powerful non-parametric supervised learning method. They can be used for the classification and regression tasks. The main goal of DTs is to create a model predicting target variable value by learning simple decision rules deduced from the data features. Decision trees have two main entities; one is root node, where the data splits, and other is decision nodes or leaves, where we got final output.\n",
    "\n",
    "Historically, there has been several improvements in decision tree algorithms. We had ID3 for categorical data. Then C4.5 cam out with the ability of processing numerical data. Fainally, CART was introduced with many enhacements. In sklearn, CART algorithm is used to create decision trees.  We can use <code>sklearn.tree.DecisionTreeClassifier</code> and <code>sklearn.tree.DecisionTreeRegressor</code> for this."
   ]
  },
  {
   "cell_type": "code",
   "execution_count": 7,
   "metadata": {},
   "outputs": [],
   "source": [
    "from sklearn.datasets import load_iris\n",
    "from sklearn.model_selection import train_test_split\n",
    "from sklearn.tree import DecisionTreeClassifier\n",
    "iris = load_iris()\n",
    "X = iris.data\n",
    "y = iris.target\n",
    "x_train,  x_test , y_train, y_test = train_test_split(X,y,train_size=0.7, test_size=0.3)"
   ]
  },
  {
   "cell_type": "code",
   "execution_count": 36,
   "metadata": {},
   "outputs": [
    {
     "data": {
      "text/plain": [
       "0.8666666666666667"
      ]
     },
     "execution_count": 36,
     "metadata": {},
     "output_type": "execute_result"
    }
   ],
   "source": [
    "dtc = DecisionTreeClassifier()\n",
    "dtc.fit(x_train,y_train)\n",
    "dtc.score(x_test,y_test)"
   ]
  },
  {
   "cell_type": "markdown",
   "metadata": {},
   "source": [
    "The scikit-learn DecisionTreeClassifier takes a parameter called random_state. If this is set to an integer, your model should produce the same results every time. If you use a random state, the results should be slightly different every time, because there is some random selection going on in the algorithm. "
   ]
  },
  {
   "cell_type": "markdown",
   "metadata": {},
   "source": [
    "##  The Random Forests\n",
    "For each feature under consideration, it computes the locally optimal feature/split combination. In Random forest, each decision tree in the ensemble is built from a sample drawn with replacement from the training set and then gets the prediction from each of them and finally selects the best solution by means of voting. It can be used for both classification as well as regression tasks.\n",
    "\n",
    "Classification with Random Forest\n",
    "For creating a random forest classifier, the Scikit-learn module provides <code>sklearn.ensemble.RandomForestClassifier</code>. While building random forest classifier, the main parameters this module uses are ‘max_features’ and ‘n_estimators’.\n",
    "\n",
    "Here, <code>‘max_features’</code> is the size of the random subsets of features to consider when splitting a node. If we choose this parameter’s value to none then it will consider all the features rather than a random subset. On the other hand, <code>n_estimators</code> are the number of trees in the forest. The higher the number of trees, the better the result will be. But it will take longer to compute also."
   ]
  },
  {
   "cell_type": "code",
   "execution_count": 43,
   "metadata": {},
   "outputs": [
    {
     "data": {
      "text/plain": [
       "0.9333333333333333"
      ]
     },
     "execution_count": 43,
     "metadata": {},
     "output_type": "execute_result"
    }
   ],
   "source": [
    "from sklearn.ensemble import RandomForestClassifier\n",
    "rfc = RandomForestClassifier()\n",
    "rfc.fit(x_train,y_train)\n",
    "rfc.score(x_test,y_test)"
   ]
  },
  {
   "cell_type": "markdown",
   "metadata": {},
   "source": [
    "## Classification with Extra-Tree Method\n",
    " The benefit of using extra tree methods is that it allows to reduce the variance of the model a bit more. The disadvantage of using these methods is that it slightly increases the bias.\n"
   ]
  },
  {
   "cell_type": "markdown",
   "metadata": {},
   "source": [
    "# Boosting methods\n",
    "Boosting methods build ensemble model in an incremental way. The main principle is to build the model incrementally by training each base model estimator sequentially. In order to build powerful ensemble, these methods basically combine several weak learners which are sequentially trained over multiple iterations of training data. The <code>sklearn.ensemble</code> module is having following two boosting methods.\n",
    "\n",
    "1. AdaBoost\n",
    "2. Gradient Tree Boosting\n",
    "\n"
   ]
  },
  {
   "cell_type": "markdown",
   "metadata": {},
   "source": [
    "## AdaBoost\n",
    "AdaBoost is usually combined of a bunch of decision trees. At first it might seeme quite similar to random forest algorithm, but they have principle differences:\n",
    "\n",
    "1. Random forest have complete decision trees with no predefined depth. In AdaBoost, however, decision trees have only one node and two leaves. In fact, they are stumps not trees.\n",
    "\n",
    "2. In random forest, all tree have an equal weight, but in AdaBoost some stumps are more important and have more say in the final classification result. \n",
    "3. In random forest, the decision trees are independent, but in AdaBoost they are crreated sequentially and the result of the first one influences the creation of the next stump.\n",
    "\n",
    "\n",
    "There are two classes that use AdaBoost for classification and regression."
   ]
  },
  {
   "cell_type": "code",
   "execution_count": 1,
   "metadata": {},
   "outputs": [
    {
     "data": {
      "text/plain": [
       "0.8888888888888888"
      ]
     },
     "execution_count": 1,
     "metadata": {},
     "output_type": "execute_result"
    }
   ],
   "source": [
    "from sklearn.datasets import load_iris\n",
    "from sklearn.model_selection import train_test_split\n",
    "from sklearn.ensemble import AdaBoostClassifier\n",
    "\n",
    "iris = load_iris()\n",
    "x_train, x_test,  y_train , y_test = train_test_split(iris.data, iris.target, train_size=0.7, test_size=0.3)\n",
    "\n",
    "adaClassifier = AdaBoostClassifier()\n",
    "adaClassifier.fit(x_train,y_train)\n",
    "adaClassifier.score(x_test,y_test)"
   ]
  },
  {
   "cell_type": "code",
   "execution_count": 46,
   "metadata": {},
   "outputs": [],
   "source": [
    "## regression with AdaBoost\n",
    "import numpy as np\n",
    "x = np.array(range(-20,20,2))\n",
    "xt = np.setdiff1d(range(-20 , 20) , x)\n",
    "x = x.reshape(-1,1)\n",
    "xt = xt.reshape(-1,1)\n",
    "y = x**2"
   ]
  },
  {
   "cell_type": "code",
   "execution_count": null,
   "metadata": {},
   "outputs": [],
   "source": [
    "from sklearn.ensemble import AdaBoostRegressor\n",
    "adaRegressor = AdaBoostRegressor()\n",
    "adaRegressor.fit(x,y)\n",
    "yt = adaRegressor.predict(xt)"
   ]
  },
  {
   "cell_type": "code",
   "execution_count": 50,
   "metadata": {},
   "outputs": [
    {
     "data": {
      "text/plain": [
       "<matplotlib.collections.PathCollection at 0x1376fba00>"
      ]
     },
     "execution_count": 50,
     "metadata": {},
     "output_type": "execute_result"
    },
    {
     "data": {
      "image/png": "[encoded data removed]",
      "text/plain": [
       "<Figure size 640x480 with 2 Axes>"
      ]
     },
     "metadata": {},
     "output_type": "display_data"
    }
   ],
   "source": [
    "import matplotlib.pyplot as plt\n",
    "fig , axes = plt.subplots(1,2)\n",
    "axes[0].scatter(x,y)\n",
    "axes[1].scatter(xt,yt)"
   ]
  },
  {
   "cell_type": "markdown",
   "metadata": {},
   "source": [
    "## Gradient Tree Boosting\n",
    "\n",
    "Gradient boost algorithm is very similar to AdaBoost, but it creates trees instead of stumps. We can configure the number of the leaves for the trees.  It can be used for the regression and classification problems. Scikit-learn module provides <code>sklearn.ensemble.GradientBoostingClassifier</code>. The parameter n_estimators will control the number of week learners.\n"
   ]
  },
  {
   "cell_type": "markdown",
   "metadata": {},
   "source": [
    "# Clustering\n",
    "\n",
    "Clustering methods, one of the most useful unsupervised ML methods, used to find similarity & relationship patterns among data samples. After that, they cluster those samples into groups having similarity based on features. Clustering determines the intrinsic grouping among the present unlabeled data, that’s why it is important.\n",
    "\n",
    "The Scikit-learn library have <code>sklearn.cluster</code> to perform clustering of unlabeled data.\n"
   ]
  },
  {
   "cell_type": "markdown",
   "metadata": {},
   "source": [
    "## K-means\n",
    "\n",
    "This algorithm computes the centroids and iterates until it finds optimal centroid. It requires the number of clusters to be specified that’s why it assumes that they are already known. Scikit-learn have <code>sklearn.cluster.KMeans</code> module to perform K-Means clustering.\n"
   ]
  },
  {
   "cell_type": "code",
   "execution_count": 90,
   "metadata": {},
   "outputs": [
    {
     "name": "stdout",
     "output_type": "stream",
     "text": [
      "(1797, 64)\n"
     ]
    },
    {
     "data": {
      "text/plain": [
       "(10, 64)"
      ]
     },
     "execution_count": 90,
     "metadata": {},
     "output_type": "execute_result"
    }
   ],
   "source": [
    "from sklearn.cluster import KMeans\n",
    "from sklearn.datasets import load_digits\n",
    "digits = load_digits()\n",
    "km = KMeans(n_clusters=10, random_state = 0)\n",
    "X = digits.data\n",
    "print(X.shape)\n",
    "km.fit(X)\n",
    "km.cluster_centers_.shape"
   ]
  },
  {
   "cell_type": "code",
   "execution_count": 92,
   "metadata": {},
   "outputs": [
    {
     "data": {
      "image/png": "[encoded data removed]",
      "text/plain": [
       "<Figure size 640x480 with 10 Axes>"
      ]
     },
     "metadata": {},
     "output_type": "display_data"
    }
   ],
   "source": [
    "import matplotlib.pyplot as plt\n",
    "centers = km.cluster_centers_.reshape(10,8,8)\n",
    "fig , axes = plt.subplots(2,5)\n",
    "for i in range(5):\n",
    "    axes[0,i].imshow(centers[i])\n",
    "    \n",
    "for i in range(5,10):\n",
    "    axes[1,i-6].imshow(centers[i])"
   ]
  },
  {
   "cell_type": "code",
   "execution_count": 93,
   "metadata": {},
   "outputs": [
    {
     "data": {
      "image/png": "[encoded data removed]",
      "text/plain": [
       "<Figure size 2000x1000 with 9 Axes>"
      ]
     },
     "metadata": {},
     "output_type": "display_data"
    }
   ],
   "source": [
    "center_labels = [4,3,5,9,7,1,8,2,6,0]\n",
    "fig , axes = plt.subplots(1,9,figsize=(20,10))\n",
    "for i,x in enumerate(range(0,1700,200)):\n",
    "    axes[i].imshow(X[x].reshape(8,8))\n",
    "    axes[i].set_title('{} -> {}'.format(digits.target[x],center_labels[km.predict([X[x]])[0]]))"
   ]
  },
  {
   "cell_type": "markdown",
   "metadata": {},
   "source": [
    "## Affinity Propagation\n",
    "## Mean Shift\n",
    "## Spectral Clustering\n",
    "## Hierarchical Clustering\n",
    "## DBSCAN\n",
    "## OPTICS\n",
    "## BIRCH"
   ]
  },
  {
   "cell_type": "markdown",
   "metadata": {},
   "source": [
    "## Clustering Performance Evaluation\n",
    "\n",
    "There are various functions with the help of which we can evaluate the performance of clustering algorithms.\n",
    "\n",
    "### Adjusted Rand Index\n",
    "### Mutual Information Based Score\n",
    "### Fowlkes-Mallows Score\n",
    "### Silhouette Coefficient\n",
    "### Contingency Matrix\n",
    "\n"
   ]
  }
 ],
 "metadata": {
  "kernelspec": {
   "display_name": "Python 3.10.2 ('.sklearn': venv)",
   "language": "python",
   "name": "python3"
  },
  "language_info": {
   "codemirror_mode": {
    "name": "ipython",
    "version": 3
   },
   "file_extension": ".py",
   "mimetype": "text/x-python",
   "name": "python",
   "nbconvert_exporter": "python",
   "pygments_lexer": "ipython3",
   "version": "3.10.2"
  },
  "orig_nbformat": 4,
  "vscode": {
   "interpreter": {
    "hash": "94ac2878702d187c1d29c60bcefe76b42a44db078259ef57bc719f99e507b10d"
   }
  }
 },
 "nbformat": 4,
 "nbformat_minor": 2
}
